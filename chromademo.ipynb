{
 "cells": [
  {
   "cell_type": "code",
   "execution_count": 25,
   "id": "9e904baa",
   "metadata": {},
   "outputs": [],
   "source": [
    "from langchain.document_loaders import PyPDFLoader\n",
    "from langchain_openai import OpenAIEmbeddings\n",
    "from langchain_openai import ChatOpenAI\n",
    "\n",
    "loader = PyPDFLoader(\"app/assets/certifications.pdf\")\n",
    "docs = loader.load_and_split()"
   ]
  },
  {
   "cell_type": "code",
   "execution_count": 26,
   "id": "ddfc7ba0",
   "metadata": {},
   "outputs": [
    {
     "data": {
      "text/plain": [
       "Document(metadata={'producer': 'www.ilovepdf.com', 'creator': 'Microsoft® Word 2016', 'creationdate': '2025-07-27T02:17:26+00:00', 'author': 'html-to-docx', 'keywords': 'html-to-docx', 'moddate': '2025-07-27T02:17:26+00:00', 'source': 'app/assets/certifications.pdf', 'total_pages': 15, 'page': 0, 'page_label': '1'}, page_content='Cisco Networking Certifications \\nCisco Certified Support Technician (CCST) \\n\\uf0b7 Description (from official site): \\n\"The Cisco Certified Support Technician (CCST) certification validates foundational knowledge in \\nnetworking, cybersecurity, and data analytics and is ideal for those starting their IT careers.\" \\n\\uf0b7 Official Vendor Name & Price: \\nCisco: $125 \\n\\uf0b7 Training Providers: \\no Learning Tree \\nLink: https://www.learningtree.ca/courses/cisco-certified-support-technician-ccst-training/ \\nPrice: $2,195 \\no Udemy \\nLink: https://www.udemy.com/course/cisco-certified-support-technician/ \\nPrice: $14.99–$49.99 \\nCisco Certified Network Associate (CCNA) \\n\\uf0b7 Description (from official site): \\n\"The CCNA certification covers networking fundamentals, IP connectivity, security fundamentals, \\nautomation and programmability. It validates your skills to install, configure, and troubleshoot \\nnetworks and is globally recognized as the entry-level networking credential.\" \\n\\uf0b7 Official Vendor Name & Price: \\nCisco: $300 \\n\\uf0b7 Training Providers: \\no CBT Nuggets \\nLink: https://www.cbtnuggets.com/it-training/cisco/ccna \\nPrice: $59/month')"
      ]
     },
     "execution_count": 26,
     "metadata": {},
     "output_type": "execute_result"
    }
   ],
   "source": [
    "docs[0]"
   ]
  },
  {
   "cell_type": "code",
   "execution_count": 27,
   "id": "bff1c897",
   "metadata": {},
   "outputs": [],
   "source": [
    "llm = ChatOpenAI(model_name=\"gpt-3.5-turbo\", temperature=0.8)\n",
    "\n",
    "embeddings = OpenAIEmbeddings()"
   ]
  },
  {
   "cell_type": "code",
   "execution_count": 28,
   "id": "cd6cb31b",
   "metadata": {},
   "outputs": [],
   "source": [
    "from langchain_chroma import Chroma\n",
    "chroma_db = Chroma.from_documents(\n",
    "    documents=docs, \n",
    "    embedding=embeddings, \n",
    "    persist_directory=\"data\", \n",
    "    collection_name=\"certificates1\"\n",
    ")"
   ]
  },
  {
   "cell_type": "code",
   "execution_count": 29,
   "id": "353da945",
   "metadata": {},
   "outputs": [],
   "source": [
    "query = \"What is this document about?\""
   ]
  },
  {
   "cell_type": "code",
   "execution_count": 30,
   "id": "7053a50d",
   "metadata": {},
   "outputs": [
    {
     "name": "stdout",
     "output_type": "stream",
     "text": [
      "[Document(id='f943e6e1-9722-453a-91b1-5e2fd24a2105', metadata={'creationdate': '2025-07-27T02:17:26+00:00', 'keywords': 'html-to-docx', 'page_label': '15', 'producer': 'www.ilovepdf.com', 'page': 14, 'author': 'html-to-docx', 'total_pages': 15, 'source': 'app/assets/certifications.pdf', 'moddate': '2025-07-27T02:17:26+00:00', 'creator': 'Microsoft® Word 2016'}, page_content='o GreyCampus \\nLink: https://www.greycampus.com/ \\nPrice: ~$600–$900'), Document(id='714decad-7cc4-403b-9ab0-61620c942a26', metadata={'keywords': 'html-to-docx', 'moddate': '2025-07-27T02:17:26+00:00', 'producer': 'www.ilovepdf.com', 'source': 'app/assets/certifications.pdf', 'total_pages': 15, 'author': 'html-to-docx', 'creationdate': '2025-07-27T02:17:26+00:00', 'page_label': '11', 'creator': 'Microsoft® Word 2016', 'page': 10}, page_content='\\uf0b7 Description (from official site): \\n\"Proves expertise in designing cloud and hybrid solutions that run on Microsoft Azure, including \\ncompute, network, storage, monitoring, and security.\" \\n\\uf0b7 Official Vendor Name & Price: \\nMicrosoft: $165 \\n\\uf0b7 Training Providers: \\no Pluralsight \\nLink: https://www.pluralsight.com/paths/azure-solutions-architect-expert \\nPrice: $29/month \\no Udemy \\nLink: https://www.udemy.com/courses/search/?q=az-305 \\nPrice: $14.99–$49.99 \\nGoogle Cloud Certifications \\nCloud Digital Leader \\n\\uf0b7 Description (from official site): \\n\"Demonstrates knowledge of cloud concepts and Google Cloud products, services, tools, features, \\nbenefits, and use cases.\" \\n\\uf0b7 Official Vendor Name & Price: \\nGoogle Cloud: $99 \\n\\uf0b7 Training Providers: \\no Coursera \\nLink: https://www.coursera.org/courses?query=cloud digital leader \\nPrice: Subscription \\no Pluralsight \\nLink: https://www.pluralsight.com/paths/google-cloud-digital-leader \\nPrice: $29/month \\nAssociate Cloud Engineer'), Document(id='8e3f043a-614f-4cb9-a9e5-4de0689b5b67', metadata={'keywords': 'html-to-docx', 'author': 'html-to-docx', 'source': 'app/assets/certifications.pdf', 'moddate': '2025-07-27T02:17:26+00:00', 'creator': 'Microsoft® Word 2016', 'creationdate': '2025-07-27T02:17:26+00:00', 'page': 12, 'page_label': '13', 'producer': 'www.ilovepdf.com', 'total_pages': 15}, page_content='o Cybrary \\nLink: https://www.cybrary.it/course/cissp \\nPrice: Free & Paid \\no Udemy \\nLink: https://www.udemy.com/courses/search/?q=cissp \\nPrice: $14.99–$49.99 \\nCISM (Certified Information Security Manager) \\n\\uf0b7 Description (from official site): \\n\"CISM is a highly regarded certification for management-focused individuals who design and \\nmanage an organization’s information security program.\" \\n\\uf0b7 Official Vendor Name & Price: \\nISACA: $760 \\n\\uf0b7 Training Providers: \\no Simplilearn \\nLink: https://www.simplilearn.com/cism-certification-training-course \\nPrice: $999 \\no Udemy \\nLink: https://www.udemy.com/courses/search/?q=cism \\nPrice: $14.99–$49.99 \\nCEH (Certified Ethical Hacker) \\n\\uf0b7 Description (from official site): \\n\"The Certified Ethical Hacker (CEH) program is the world’s most advanced ethical hacking course \\nand one of the most sought-after cybersecurity certifications.\" \\n\\uf0b7 Official Vendor Name & Price: \\nEC-Council: $950 \\n\\uf0b7 Training Providers:'), Document(id='0231b6eb-5e6b-436f-b102-2dd6b75c63fb', metadata={'moddate': '2025-07-27T02:17:26+00:00', 'author': 'html-to-docx', 'producer': 'www.ilovepdf.com', 'page': 11, 'total_pages': 15, 'source': 'app/assets/certifications.pdf', 'creator': 'Microsoft® Word 2016', 'creationdate': '2025-07-27T02:17:26+00:00', 'page_label': '12', 'keywords': 'html-to-docx'}, page_content='\\uf0b7 Description (from official site): \\n\"Validates ability to deploy applications, monitor operations, and manage enterprise solutions on \\nGoogle Cloud.\" \\n\\uf0b7 Official Vendor Name & Price: \\nGoogle Cloud: $125 \\n\\uf0b7 Training Providers: \\no Coursera \\nLink: https://www.coursera.org/courses?query=google associate cloud engineer \\nPrice: Subscription \\nProfessional Cloud Architect \\n\\uf0b7 Description (from official site): \\n\"Assesses your ability to design, develop and manage dynamic solutions using Google Cloud \\ntechnologies.\" \\n\\uf0b7 Official Vendor Name & Price: \\nGoogle Cloud: $200 \\n\\uf0b7 Training Providers: \\no Coursera \\nLink: https://www.coursera.org/courses?query=google cloud architect \\nPrice: Subscription \\nCybersecurity Certifications \\nCISSP (Certified Information Systems Security Professional) \\n\\uf0b7 Description (from official site): \\n\"CISSP is the world\\'s premier cybersecurity certification, validating your expertise and ability to \\ndesign, implement, and manage a best-in-class cybersecurity program.\" \\n\\uf0b7 Official Vendor Name & Price: \\nISC2: $749 (plus $125/year maintenance) \\n\\uf0b7 Training Providers:')]\n"
     ]
    }
   ],
   "source": [
    "docs = chroma_db.similarity_search(query)\n",
    "print(docs)"
   ]
  },
  {
   "cell_type": "code",
   "execution_count": 47,
   "id": "0d140adb",
   "metadata": {},
   "outputs": [
    {
     "name": "stdout",
     "output_type": "stream",
     "text": [
      "[Document(id='383ba26b-b860-49ee-9f4e-e25e4a6568c5', metadata={'creator': 'Microsoft® Word 2016', 'creationdate': '2025-07-27T02:17:26+00:00', 'keywords': 'html-to-docx', 'source': 'app/assets/certifications.pdf', 'moddate': '2025-07-27T02:17:26+00:00', 'page': 13, 'author': 'html-to-docx', 'producer': 'www.ilovepdf.com', 'total_pages': 15, 'page_label': '14'}, page_content='o Simplilearn \\nLink: https://www.simplilearn.com/certified-ethical-hacker-ceh-certification-course \\nPrice: $1,099 \\no Udemy \\nLink: https://www.udemy.com/courses/search/?q=ceh \\nPrice: $14.99–$49.99 \\nOSCP (Offensive Security Certified Professional) \\n\\uf0b7 Description (from official site): \\n\"The OSCP is a hands-on penetration testing certification for professionals who want to prove their \\npractical and technical skills.\" \\n\\uf0b7 Official Vendor Name & Price: \\nOffensive Security: $1,599 (exam & 90 days lab access) \\n\\uf0b7 Training Providers: \\no Hacker101 \\nLink: https://www.hacker101.com/ \\nPrice: Free \\no Udemy \\nLink: https://www.udemy.com/courses/search/?q=oscp \\nPrice: $14.99–$49.99 \\nPMP (Project Management Professional) \\n\\uf0b7 Description (from official site): \\n\"The PMP demonstrates project leadership experience and expertise in any way of working.\" \\n\\uf0b7 Official Vendor Name & Price: \\nPMI: $405 (PMI member), $575 (non-member) \\n\\uf0b7 Training Providers: \\no Simplilearn \\nLink: https://www.simplilearn.com/project-management/pmp-certification-training \\nPrice: ~$1,000'), Document(id='f7c3b7e9-87ef-46da-a203-90bed008840f', metadata={'total_pages': 15, 'moddate': '2025-07-27T02:17:26+00:00', 'producer': 'www.ilovepdf.com', 'author': 'html-to-docx', 'keywords': 'html-to-docx', 'creator': 'Microsoft® Word 2016', 'creationdate': '2025-07-27T02:17:26+00:00', 'page_label': '7', 'page': 6, 'source': 'app/assets/certifications.pdf'}, page_content='o Dion Training \\nLink: https://www.diontraining.com/collections/comptia-courses \\nPrice: $335 \\no Udemy \\nLink: https://www.udemy.com/courses/search/?q=comptia pentest%2B \\nPrice: $14.99–$49.99 \\nCompTIA Advanced Security Practitioner (CASP+) \\n\\uf0b7 Description (from official site): \\n\"CompTIA Advanced Security Practitioner (CASP+) is the ideal certification for technical \\nprofessionals who want to remain immersed in technology as opposed to managing cybersecurity \\npolicy and frameworks.\" \\n\\uf0b7 Official Vendor Name & Price: \\nCompTIA: $494 \\n\\uf0b7 Training Providers: \\no Udemy \\nLink: https://www.udemy.com/courses/search/?q=comptia casp%2B \\nPrice: $14.99–$49.99 \\nAWS Certifications \\nAWS Certified Cloud Practitioner \\n\\uf0b7 Description (from official site): \\n\"The AWS Certified Cloud Practitioner validates foundational, high-level understanding of AWS \\nCloud, services, and terminology.\" \\n\\uf0b7 Official Vendor Name & Price: \\nAmazon Web Services: $100 \\n\\uf0b7 Training Providers: \\no A Cloud Guru \\nLink: https://www.acloud.guru/ \\nPrice: $39/month'), Document(id='8bfe6cb8-5019-4e0f-bafb-a426d49818c9', metadata={'page_label': '1', 'page': 0, 'source': 'app/assets/certifications.pdf', 'keywords': 'html-to-docx', 'moddate': '2025-07-27T02:17:26+00:00', 'creationdate': '2025-07-27T02:17:26+00:00', 'producer': 'www.ilovepdf.com', 'author': 'html-to-docx', 'creator': 'Microsoft® Word 2016', 'total_pages': 15}, page_content='Cisco Networking Certifications \\nCisco Certified Support Technician (CCST) \\n\\uf0b7 Description (from official site): \\n\"The Cisco Certified Support Technician (CCST) certification validates foundational knowledge in \\nnetworking, cybersecurity, and data analytics and is ideal for those starting their IT careers.\" \\n\\uf0b7 Official Vendor Name & Price: \\nCisco: $125 \\n\\uf0b7 Training Providers: \\no Learning Tree \\nLink: https://www.learningtree.ca/courses/cisco-certified-support-technician-ccst-training/ \\nPrice: $2,195 \\no Udemy \\nLink: https://www.udemy.com/course/cisco-certified-support-technician/ \\nPrice: $14.99–$49.99 \\nCisco Certified Network Associate (CCNA) \\n\\uf0b7 Description (from official site): \\n\"The CCNA certification covers networking fundamentals, IP connectivity, security fundamentals, \\nautomation and programmability. It validates your skills to install, configure, and troubleshoot \\nnetworks and is globally recognized as the entry-level networking credential.\" \\n\\uf0b7 Official Vendor Name & Price: \\nCisco: $300 \\n\\uf0b7 Training Providers: \\no CBT Nuggets \\nLink: https://www.cbtnuggets.com/it-training/cisco/ccna \\nPrice: $59/month'), Document(id='8e3f043a-614f-4cb9-a9e5-4de0689b5b67', metadata={'page': 12, 'author': 'html-to-docx', 'producer': 'www.ilovepdf.com', 'creator': 'Microsoft® Word 2016', 'moddate': '2025-07-27T02:17:26+00:00', 'page_label': '13', 'creationdate': '2025-07-27T02:17:26+00:00', 'source': 'app/assets/certifications.pdf', 'total_pages': 15, 'keywords': 'html-to-docx'}, page_content='o Cybrary \\nLink: https://www.cybrary.it/course/cissp \\nPrice: Free & Paid \\no Udemy \\nLink: https://www.udemy.com/courses/search/?q=cissp \\nPrice: $14.99–$49.99 \\nCISM (Certified Information Security Manager) \\n\\uf0b7 Description (from official site): \\n\"CISM is a highly regarded certification for management-focused individuals who design and \\nmanage an organization’s information security program.\" \\n\\uf0b7 Official Vendor Name & Price: \\nISACA: $760 \\n\\uf0b7 Training Providers: \\no Simplilearn \\nLink: https://www.simplilearn.com/cism-certification-training-course \\nPrice: $999 \\no Udemy \\nLink: https://www.udemy.com/courses/search/?q=cism \\nPrice: $14.99–$49.99 \\nCEH (Certified Ethical Hacker) \\n\\uf0b7 Description (from official site): \\n\"The Certified Ethical Hacker (CEH) program is the world’s most advanced ethical hacking course \\nand one of the most sought-after cybersecurity certifications.\" \\n\\uf0b7 Official Vendor Name & Price: \\nEC-Council: $950 \\n\\uf0b7 Training Providers:')]\n"
     ]
    }
   ],
   "source": [
    "prompt = \"\"\"\n",
    "\n",
    "    You help the user let them choose a certification based on the context provided. You are not allowed to use any knowledge other than the context provided.\n",
    "    Answer the user query based on the context and analyzie the chat history when required.\n",
    "    if the answer dosent exist in the context and chat history then say i dont know\n",
    "    if the answer is related to chat history then give an appropriate answer.\n",
    "\n",
    "    Format answers in proper format with links, prices and resources from the context provided.\n",
    "    If you dont have information about the query which user asked. In the context provided then you should say i dont know.\n",
    "\n",
    "    give response in a proper and clean markdown format.\n",
    "    \n",
    "    context:{context}\n",
    "\n",
    "    \"\"\"\n",
    "\n",
    "source_docs = chroma_db.similarity_search(query=query)\n",
    "\n",
    "print(source_docs)"
   ]
  },
  {
   "cell_type": "code",
   "execution_count": 48,
   "id": "62baf5f8",
   "metadata": {},
   "outputs": [],
   "source": [
    "from langchain_core.messages import AIMessage, HumanMessage\n",
    "from langchain.prompts import ChatPromptTemplate, MessagesPlaceholder\n",
    "\n",
    "template = ChatPromptTemplate.from_messages([\n",
    "        (\"system\", prompt),\n",
    "        MessagesPlaceholder(\"history\"),\n",
    "        (\"human\", \"{question}\")\n",
    "    ])\n",
    "\n",
    "chat_history = []\n"
   ]
  },
  {
   "cell_type": "code",
   "execution_count": 49,
   "id": "000ec6c2",
   "metadata": {},
   "outputs": [
    {
     "name": "stdout",
     "output_type": "stream",
     "text": [
      "[Document(id='383ba26b-b860-49ee-9f4e-e25e4a6568c5', metadata={'creator': 'Microsoft® Word 2016', 'page_label': '14', 'moddate': '2025-07-27T02:17:26+00:00', 'page': 13, 'author': 'html-to-docx', 'keywords': 'html-to-docx', 'total_pages': 15, 'creationdate': '2025-07-27T02:17:26+00:00', 'source': 'app/assets/certifications.pdf', 'producer': 'www.ilovepdf.com'}, page_content='o Simplilearn \\nLink: https://www.simplilearn.com/certified-ethical-hacker-ceh-certification-course \\nPrice: $1,099 \\no Udemy \\nLink: https://www.udemy.com/courses/search/?q=ceh \\nPrice: $14.99–$49.99 \\nOSCP (Offensive Security Certified Professional) \\n\\uf0b7 Description (from official site): \\n\"The OSCP is a hands-on penetration testing certification for professionals who want to prove their \\npractical and technical skills.\" \\n\\uf0b7 Official Vendor Name & Price: \\nOffensive Security: $1,599 (exam & 90 days lab access) \\n\\uf0b7 Training Providers: \\no Hacker101 \\nLink: https://www.hacker101.com/ \\nPrice: Free \\no Udemy \\nLink: https://www.udemy.com/courses/search/?q=oscp \\nPrice: $14.99–$49.99 \\nPMP (Project Management Professional) \\n\\uf0b7 Description (from official site): \\n\"The PMP demonstrates project leadership experience and expertise in any way of working.\" \\n\\uf0b7 Official Vendor Name & Price: \\nPMI: $405 (PMI member), $575 (non-member) \\n\\uf0b7 Training Providers: \\no Simplilearn \\nLink: https://www.simplilearn.com/project-management/pmp-certification-training \\nPrice: ~$1,000'), Document(id='f7c3b7e9-87ef-46da-a203-90bed008840f', metadata={'author': 'html-to-docx', 'creator': 'Microsoft® Word 2016', 'moddate': '2025-07-27T02:17:26+00:00', 'source': 'app/assets/certifications.pdf', 'page': 6, 'creationdate': '2025-07-27T02:17:26+00:00', 'total_pages': 15, 'producer': 'www.ilovepdf.com', 'page_label': '7', 'keywords': 'html-to-docx'}, page_content='o Dion Training \\nLink: https://www.diontraining.com/collections/comptia-courses \\nPrice: $335 \\no Udemy \\nLink: https://www.udemy.com/courses/search/?q=comptia pentest%2B \\nPrice: $14.99–$49.99 \\nCompTIA Advanced Security Practitioner (CASP+) \\n\\uf0b7 Description (from official site): \\n\"CompTIA Advanced Security Practitioner (CASP+) is the ideal certification for technical \\nprofessionals who want to remain immersed in technology as opposed to managing cybersecurity \\npolicy and frameworks.\" \\n\\uf0b7 Official Vendor Name & Price: \\nCompTIA: $494 \\n\\uf0b7 Training Providers: \\no Udemy \\nLink: https://www.udemy.com/courses/search/?q=comptia casp%2B \\nPrice: $14.99–$49.99 \\nAWS Certifications \\nAWS Certified Cloud Practitioner \\n\\uf0b7 Description (from official site): \\n\"The AWS Certified Cloud Practitioner validates foundational, high-level understanding of AWS \\nCloud, services, and terminology.\" \\n\\uf0b7 Official Vendor Name & Price: \\nAmazon Web Services: $100 \\n\\uf0b7 Training Providers: \\no A Cloud Guru \\nLink: https://www.acloud.guru/ \\nPrice: $39/month'), Document(id='8bfe6cb8-5019-4e0f-bafb-a426d49818c9', metadata={'creator': 'Microsoft® Word 2016', 'author': 'html-to-docx', 'keywords': 'html-to-docx', 'producer': 'www.ilovepdf.com', 'source': 'app/assets/certifications.pdf', 'moddate': '2025-07-27T02:17:26+00:00', 'total_pages': 15, 'creationdate': '2025-07-27T02:17:26+00:00', 'page_label': '1', 'page': 0}, page_content='Cisco Networking Certifications \\nCisco Certified Support Technician (CCST) \\n\\uf0b7 Description (from official site): \\n\"The Cisco Certified Support Technician (CCST) certification validates foundational knowledge in \\nnetworking, cybersecurity, and data analytics and is ideal for those starting their IT careers.\" \\n\\uf0b7 Official Vendor Name & Price: \\nCisco: $125 \\n\\uf0b7 Training Providers: \\no Learning Tree \\nLink: https://www.learningtree.ca/courses/cisco-certified-support-technician-ccst-training/ \\nPrice: $2,195 \\no Udemy \\nLink: https://www.udemy.com/course/cisco-certified-support-technician/ \\nPrice: $14.99–$49.99 \\nCisco Certified Network Associate (CCNA) \\n\\uf0b7 Description (from official site): \\n\"The CCNA certification covers networking fundamentals, IP connectivity, security fundamentals, \\nautomation and programmability. It validates your skills to install, configure, and troubleshoot \\nnetworks and is globally recognized as the entry-level networking credential.\" \\n\\uf0b7 Official Vendor Name & Price: \\nCisco: $300 \\n\\uf0b7 Training Providers: \\no CBT Nuggets \\nLink: https://www.cbtnuggets.com/it-training/cisco/ccna \\nPrice: $59/month'), Document(id='8e3f043a-614f-4cb9-a9e5-4de0689b5b67', metadata={'source': 'app/assets/certifications.pdf', 'author': 'html-to-docx', 'creator': 'Microsoft® Word 2016', 'page': 12, 'total_pages': 15, 'creationdate': '2025-07-27T02:17:26+00:00', 'page_label': '13', 'producer': 'www.ilovepdf.com', 'keywords': 'html-to-docx', 'moddate': '2025-07-27T02:17:26+00:00'}, page_content='o Cybrary \\nLink: https://www.cybrary.it/course/cissp \\nPrice: Free & Paid \\no Udemy \\nLink: https://www.udemy.com/courses/search/?q=cissp \\nPrice: $14.99–$49.99 \\nCISM (Certified Information Security Manager) \\n\\uf0b7 Description (from official site): \\n\"CISM is a highly regarded certification for management-focused individuals who design and \\nmanage an organization’s information security program.\" \\n\\uf0b7 Official Vendor Name & Price: \\nISACA: $760 \\n\\uf0b7 Training Providers: \\no Simplilearn \\nLink: https://www.simplilearn.com/cism-certification-training-course \\nPrice: $999 \\no Udemy \\nLink: https://www.udemy.com/courses/search/?q=cism \\nPrice: $14.99–$49.99 \\nCEH (Certified Ethical Hacker) \\n\\uf0b7 Description (from official site): \\n\"The Certified Ethical Hacker (CEH) program is the world’s most advanced ethical hacking course \\nand one of the most sought-after cybersecurity certifications.\" \\n\\uf0b7 Official Vendor Name & Price: \\nEC-Council: $950 \\n\\uf0b7 Training Providers:')]\n"
     ]
    }
   ],
   "source": [
    "query = \"Which certification has the most affordable training options?\"\n",
    "source_docs = chroma_db.similarity_search(query=query)\n",
    "print(source_docs)"
   ]
  },
  {
   "cell_type": "code",
   "execution_count": 50,
   "id": "ab7fc477",
   "metadata": {},
   "outputs": [
    {
     "name": "stdout",
     "output_type": "stream",
     "text": [
      "The certification with the most affordable training options based on the provided context is the **CompTIA Advanced Security Practitioner (CASP+)**. The training for CASP+ is available on Udemy for a price range of $14.99–$49.99. The official vendor price for the CASP+ certification is $494. \n",
      "\n",
      "You can find more information about the CASP+ certification and training options at the following links:\n",
      "- [Official Vendor Price and Description](https://www.comptia.org/certifications/comptia-advanced-security-practitioner)\n",
      "- [Udemy Training Options](https://www.udemy.com/courses/search/?q=comptia%20casp%2B)\n"
     ]
    }
   ],
   "source": [
    "res = llm.invoke(template.format(question=query, history=chat_history, context=source_docs))\n",
    "print(res.content)"
   ]
  },
  {
   "cell_type": "code",
   "execution_count": 23,
   "id": "39c95d45",
   "metadata": {},
   "outputs": [],
   "source": [
    "chat_history.append(HumanMessage(content=query))\n",
    "chat_history.append(AIMessage(content=res.content))"
   ]
  },
  {
   "cell_type": "code",
   "execution_count": 24,
   "id": "28f02829",
   "metadata": {},
   "outputs": [],
   "source": [
    "query=\"What was my 1st question ?\"\n",
    "\n",
    "source_docs = chroma_db.similarity_search(query=query)\n"
   ]
  },
  {
   "cell_type": "code",
   "execution_count": 25,
   "id": "58fc61c4",
   "metadata": {},
   "outputs": [
    {
     "name": "stdout",
     "output_type": "stream",
     "text": [
      "AI: Your first question was \"What is this document about?\"\n"
     ]
    }
   ],
   "source": [
    "res = llm.invoke(template.format(question=query, history=chat_history, context=source_docs))\n",
    "print(res.content)"
   ]
  },
  {
   "cell_type": "code",
   "execution_count": 15,
   "id": "084f7c4e",
   "metadata": {},
   "outputs": [
    {
     "name": "stdout",
     "output_type": "stream",
     "text": [
      "{'query': 'What is this document about?', 'result': 'This document provides information about Jeff Bezos, the founder of Amazon, his business ventures, leadership style, early life, education, and involvement in space exploration through Blue Origin. It covers various aspects of his personal and professional life, including his management philosophies, investments, and contributions to different industries such as media, technology, and space travel.'}\n"
     ]
    }
   ],
   "source": [
    "from langchain.chains import RetrievalQA\n",
    "\n",
    "chain = RetrievalQA.from_chain_type(llm=llm,\n",
    "                                    chain_type=\"stuff\",\n",
    "                                    retriever=chroma_db.as_retriever())\n",
    "\n",
    "response = chain(query)\n",
    "\n",
    "print(response)\n"
   ]
  },
  {
   "cell_type": "code",
   "execution_count": null,
   "id": "5e712d69",
   "metadata": {},
   "outputs": [],
   "source": []
  }
 ],
 "metadata": {
  "kernelspec": {
   "display_name": "venv",
   "language": "python",
   "name": "python3"
  },
  "language_info": {
   "codemirror_mode": {
    "name": "ipython",
    "version": 3
   },
   "file_extension": ".py",
   "mimetype": "text/x-python",
   "name": "python",
   "nbconvert_exporter": "python",
   "pygments_lexer": "ipython3",
   "version": "3.12.7"
  }
 },
 "nbformat": 4,
 "nbformat_minor": 5
}
