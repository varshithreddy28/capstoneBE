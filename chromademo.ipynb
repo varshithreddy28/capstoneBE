{
 "cells": [
  {
   "cell_type": "code",
   "execution_count": 4,
   "id": "9e904baa",
   "metadata": {},
   "outputs": [],
   "source": [
    "from langchain.document_loaders import PyPDFLoader\n",
    "from langchain_openai import OpenAIEmbeddings\n",
    "from langchain_openai import ChatOpenAI\n",
    "\n",
    "loader = PyPDFLoader(\"app/assets/Bezos.pdf\")\n",
    "docs = loader.load_and_split()"
   ]
  },
  {
   "cell_type": "code",
   "execution_count": null,
   "id": "bff1c897",
   "metadata": {},
   "outputs": [],
   "source": [
    "llm = ChatOpenAI(model_name=\"gpt-3.5-turbo\", temperature=0.8)\n",
    "\n",
    "embeddings = OpenAIEmbeddings()"
   ]
  },
  {
   "cell_type": "code",
   "execution_count": 6,
   "id": "cd6cb31b",
   "metadata": {},
   "outputs": [],
   "source": [
    "from langchain_chroma import Chroma\n",
    "chroma_db = Chroma.from_documents(\n",
    "    documents=docs, \n",
    "    embedding=embeddings, \n",
    "    persist_directory=\"data\", \n",
    "    collection_name=\"capstone\"\n",
    ")"
   ]
  },
  {
   "cell_type": "code",
   "execution_count": 10,
   "id": "353da945",
   "metadata": {},
   "outputs": [],
   "source": [
    "query = \"What is this document about?\""
   ]
  },
  {
   "cell_type": "code",
   "execution_count": 12,
   "id": "7053a50d",
   "metadata": {},
   "outputs": [
    {
     "name": "stdout",
     "output_type": "stream",
     "text": [
      "[Document(id='a1d37a75-bf53-431f-97a5-bbff9fa4747d', metadata={'author': 'SIDDESH SAKHALKAR', 'total_pages': 9, 'page': 8, 'creationdate': '2024-08-09T14:46:50+05:30', 'page_label': '9', 'creator': 'Microsoft® Word 2019', 'moddate': '2024-08-09T14:46:50+05:30', 'producer': 'Microsoft® Word 2019', 'source': 'Bezos.pdf'}, page_content='Leadership style \\n\"Day 1\" Management Philosophy \\nDay 1: start up \\nDay 2: stasis \\nDay 3: irrelevance \\nDay 4: \"excruciating, painful decline\" \\nDay 5: death  \\nBezos has stated \"it is always Day 1\" to describe his growth mindset.[164][165] \\nBezos used what he called a \"regret-minimization framework\" while he worked at D. E. Shaw and \\nagain during the early years of Amazon. He described this life philosophy by stating: \"When I\\'m 80, \\nam I going to regret leaving Wall Street? No. Will I regret missing the beginning of the Internet? \\nYes.\"[166] During the 1990s and early 2000s at Amazon, he was characterized as trying to quantify all \\naspects of running the company, often listing employees on spreadsheets and basing executive \\ndecisions on data.[34] To push Amazon forward, Bezos developed the mantra \"Get Big Fast\", \\nestablishing the company\\'s need to scale its operations to produce market dominance.[52] He favored \\ndiverting Amazon profits back into the company in lieu of allocating it amongst shareholders in the \\nform of dividends.[144]  \\nBezos uses the term \"work–life harmony\" instead of the more standard \"work–life balance\" because \\nhe believes that balance implies that you can only have one and not the other. He believes that work \\nand home life are interconnected, informing and calibrating each other.[167] Journalist Walt Mossberg \\ndubbed the idea that someone who cannot tolerate criticism or critique should not do anything new \\nor interesting \"The Bezos Principle\".[168] Bezos does not schedule early morning meetings and \\nenforces a two-pizza rule—a preference that meetings are small enough for two pizzas to feed \\neveryone in the boardroom.[169] When interviewing candidates for jobs at Amazon, he has stated he \\nconsiders three inquiries: can he admire the person, can the person raise the common standard, and \\nunder what circumstances could the person become exemplary.[170]  \\nIn 2018, it was reported that he met with Amazon investors for just six hours a year.[169] Instead of \\nusing presentation slides, Bezos requires high-level employees to present information with six-page \\nnarratives.[171] Since 1998, Bezos has published an annual letter for Amazon shareholders wherein he \\nfrequently refers to five principles: focus on customers, not competitors; take risks for market \\nleadership; facilitate staff morale; build a company culture; and empower people.[172][173] Bezos \\nmaintains the email address jeff@amazon.com[174] as an outlet for customers to reach out to him and \\nthe company. Although he does not respond to the emails, he forwards some of them with a \\nquestion mark in the subject line to executives, who then attempt to address the issues.[175] Bezos \\nhas cited Jeff Immelt of New Enterprise Associates,[176] Warren Buffett of Berkshire Hathaway, Jamie \\nDimon of JPMorgan Chase, and Bob Iger of The Walt Disney Company as major influences on his \\nleadership style.[176][177]'), Document(id='a44efeae-c726-4876-84f8-257c37d5e5b5', metadata={'page_label': '2', 'source': 'Bezos.pdf', 'creationdate': '2024-08-09T14:46:50+05:30', 'total_pages': 9, 'page': 1, 'author': 'SIDDESH SAKHALKAR', 'moddate': '2024-08-09T14:46:50+05:30', 'creator': 'Microsoft® Word 2019', 'producer': 'Microsoft® Word 2019'}, page_content='Lawrence retired early to his family\\'s ranch near Cotulla, Texas, where his grandson would spend \\nmany summers in his youth [23] and which he would later purchase and expand from 25,000 acres \\n(10,117 ha) to 300,000 acres (121,406 ha).[24][25] Jeff displayed scientific interests and technological \\nproficiency and once rigged an electric alarm to keep his younger half-siblings out of his room.[26][27] \\nThe family moved to Miami, Florida, where Jeff attended Miami Palmetto High School.[28][29] In high \\nschool, he worked at McDonald\\'s as a short-order line cook during the breakfast shift.[30]  \\nBezos attended the Student Science Training Program at the University of Florida. He was high school \\nvaledictorian, a National Merit Scholar,[31][32] and a Silver Knight Award winner in 1982.[31] In his \\ngraduation speech, Bezos told the audience he dreamed of the day when mankind would colonize \\nspace. A local newspaper quoted his intention \"to get all people off the earth and see it turned into a \\nhuge national park\".[33]  \\nAfter graduating from high school in 1982, Bezos attended Princeton University. He initially majored \\nin physics but later switched to electrical engineering and computer science.[34] On 13 September \\n2018, during a talk at The Economic Club of Washington, D.C., Bezos revealed that his classmate at \\nPrinceton Yasantha Rajakarunanayake who was of Sri Lankan origin, some 30 years ago had defeated \\nhim to solve a mathematical problem and as a result, Bezos himself admitted that he gave up his \\ndreams of becoming a theoretical physicist.[35][36][37][38][39]  \\nBezos was a member of the Quadrangle Club, one of Princeton\\'s 11 eating clubs.[40] In addition, he \\nwas the president of the Princeton chapter of the Students for the Exploration and Development of \\nSpace (SEDS).[41][42] He had a 4.2 GPA and was elected to Phi Beta Kappa and Tau Beta Pi. Bezos \\ngraduated from Princeton in 1986 with a Bachelor of Science in Engineering (BSE), summa cum \\nlaude.[43]  \\nBusiness career \\nEarly career \\nAfter Bezos graduated from college in 1986, he was offered jobs at Intel, Bell Labs, and Andersen \\nConsulting, among others.[44] He first worked at Fitel, a fintech telecommunications start-up, where \\nhe was tasked with building a network for international trade.[45] Bezos was promoted to head of \\ndevelopment and director of customer service thereafter. He transitioned into the banking industry \\nwhen he became a product manager at Bankers Trust from 1988 to 1990. He then joined D. E. Shaw \\n& Co, a newly created hedge fund with a strong emphasis on mathematical modelling from 1990 \\nuntil 1994. Bezos became D. E. Shaw\\'s fourth senior vice-president by age 30.[46][44]  \\nAmazon \\nMain article: Amazon \\nBezos (front row, center) at the Robot Co-op in 2005'), Document(id='f9896d98-0e3d-41a2-b94d-3afce1fe19c4', metadata={'page': 6, 'total_pages': 9, 'producer': 'Microsoft® Word 2019', 'source': 'Bezos.pdf', 'author': 'SIDDESH SAKHALKAR', 'creationdate': '2024-08-09T14:46:50+05:30', 'creator': 'Microsoft® Word 2019', 'page_label': '7', 'moddate': '2024-08-09T14:46:50+05:30'}, page_content=\"On July 20, 2021, he launched on the NS-16 mission with his half-brother Mark Bezos, Wally Funk, \\nand Oliver Daemen.[114] He launched nine days after Richard Branson launched on board the Virgin \\nGalactic Unity 22 mission. Bezos's suborbital flight lasted over 10 minutes, reaching a peak altitude of \\n66.5 miles (107.0 km).[115]  \\nThe Washington Post \\nSee also: The Washington Post \\nOn August 5, 2013, Bezos announced his purchase of The Washington Post for $250 million in \\ncash,[116] at the suggestion of his friend, Don Graham.[117] To execute the sale, he established limited \\nliability company Nash Holdings to serve as a holding company through which he would own the \\nnewspaper.[118] The sale closed on October 1, 2013, and Nash Holdings took control.[119] In March \\n2014, Bezos made his first significant change at The Washington Post and lifted the online paywall for \\nsubscribers of a number of U.S. local newspapers in Texas, Hawaii, and Minnesota.[120] In January \\n2016, Bezos set out to reinvent the newspaper as a media and technology company by \\nreconstructing its digital media, mobile platforms, and analytics software.[121] After a surge in online \\nreadership in 2016, the paper was profitable for the first time since Bezos made the purchase in \\n2013.[122]  \\nBezos Expeditions \\nMain article: Bezos Expeditions \\nBezos makes personal investments through his venture capital vehicle, Bezos Expeditions.[123] He was \\none of the first shareholders in Google, when he invested $250,000 in 1998. That $250,000 \\ninvestment resulted in 3.3 million shares of Google stock, worth about $3.1 billion in 2017.[124][125] He \\nalso invested in Unity Biotechnology, a life-extension research firm hoping to slow or stop the \\nprocess of aging.[126] Bezos is involved in the healthcare sector, which includes investments in Unity \\nBiotechnology, GRAIL, Juno Therapeutics, and Zocdoc.[127] In January 2018, an announcement was \\nmade concerning Bezos's role within a new, unnamed healthcare company. This venture, later named \\nHaven, is expected to be a partnership between Amazon, JPMorgan, and Berkshire Hathaway.[128][129]  \\nBezos also supports philanthropic efforts through direct donations and non-profit projects funded by \\nBezos Expeditions.[130] Bezos used Bezos Expeditions to fund several philanthropic projects, including \\nan Innovation center at the Seattle Museum of History and Industry and the Bezos Center for Neural \\nCircuit Dynamics at Princeton Neuroscience Institute.[131][132] In 2013, Bezos Expeditions funded the \\nrecovery of two Saturn V first-stage Rocketdyne F-1 engines from the floor of the Atlantic Ocean.[133] \\nThey were positively identified as belonging to the Apollo 11 mission's S-1C stage from July \\n1969.[134][135] The engines are currently on display at the Seattle Museum of Flight.[136][137]  \\nAltos Labs \\nMain article: Altos Labs \\nIn September 2021, Bezos co-founded Altos Labs with Mail.ru founder Yuri Milner. Altos Labs is a \\nwell-funded biotechnology company dedicated to harnessing cellular reprogramming to develop \\nlongevity therapeutics.[6] The company has recruited prominent scientists such as Juan Carlos Izpisúa \\nBelmonte (known for work on rejuvenation through reprogramming), Steve Horvath (known for work \\nin epigenetic aging clocks), and Shinya Yamanaka (the Nobel Prize-winning inventor of cellular \\nreprogramming in mammalian cells).[6] The company left stealth mode and launched on January 19, \\n2022, with a start capital of $3 billion and an executive team led by Hal Barron.[138]\"), Document(id='1d0f1b2e-9e7d-4764-b78c-b651846354bd', metadata={'page': 5, 'source': 'Bezos.pdf', 'page_label': '6', 'producer': 'Microsoft® Word 2019', 'total_pages': 9, 'moddate': '2024-08-09T14:46:50+05:30', 'creator': 'Microsoft® Word 2019', 'creationdate': '2024-08-09T14:46:50+05:30', 'author': 'SIDDESH SAKHALKAR'}, page_content='preserve Earth from overuse through resource depletion.[97] Rob Meyerson led Blue Origin from 2003 \\nto 2017 and served as its first president.[98]  \\nAfter its founding, Blue Origin maintained a low profile until 2006 when it purchased a large tract of \\nland in West Texas for a launch and test facility.[99] After the company gained the public\\'s attention \\nduring the late 2000s, Bezos additionally indicated his interest in reducing the cost of space travel for \\nhumans while also increasing the safety of extraterrestrial travel.[100] In September 2011, one of the \\ncompany\\'s uncrewed prototype vehicles crashed during a short-hop test flight. Although the crash \\nwas viewed as a setback, news outlets noted how far the company went from its founding-to-date in \\nadvancing spaceflight.[101] After the crash, Bezos has been superstitiously wearing his \"lucky\" Texas \\nCowboy boots to all rocket launches.[102] In May 2013, Bezos met with Richard Branson, chairman of \\nVirgin Galactic, to discuss commercial spaceflight opportunities and strategies.[103] He has been \\ncompared to Branson and Elon Musk as all three are billionaires who prioritize spaceflight among \\ntheir business interests.[104]  \\nIn 2015, Bezos announced that a new orbital launch vehicle was under development and would \\nmake its first flight in the late-2010s.[105] Later in November, Blue Origin\\'s New Shepard space vehicle \\nsuccessfully rocketed into space and reached its planned test altitude of 329,839 feet (100.5 \\nkilometers) before executing a vertical landing back at the launch site in West Texas. In 2016, Bezos \\nallowed select journalists to visit, tour, and photograph his facility.[106] He has repeatedly called for \\nincreased inter-space energy and industrial manufacturing to decrease the negative costs associated \\nwith business-related pollution.[107]  \\nIn December 2017, New Shepard successfully flew and landed dummy passengers, amending and \\npushing its human space travel start date into late 2018.[108] To execute this program, Blue Origin \\nbuilt six of the vehicles to support all phases of testing and operations: no-passenger test flights, \\nflights with test passengers, and commercial-passenger weekly operations.[109] Since 2016, Bezos has \\nspoken more freely about his hopes to colonize the solar system, and has been selling US$1 billion in \\nAmazon stock each year to capitalize Blue Origin in an effort to support this endeavor.[110][111] In May \\n2018, Bezos maintained that the primary goal of Blue Origin is to preserve the natural resources of \\nEarth by making the human species multi-planetary.[112] He announced that New Shepard would \\nbegin transporting humans into sub-orbital space by November 2018.[112] In July 2018, it was \\nannounced that Bezos had priced commercial spaceflight tickets from $200,000 to $300,000 per \\nperson.[113]  \\nSpaceflight \\nJeff Bezos \\nSpace career \\nCommercial Astronaut \\n \\nFlight time 10m 18s \\nSelection Blue Origin \\nMissions NS-16')]\n"
     ]
    }
   ],
   "source": [
    "docs = chroma_db.similarity_search(query)\n",
    "print(docs)"
   ]
  },
  {
   "cell_type": "code",
   "execution_count": 21,
   "id": "0d140adb",
   "metadata": {},
   "outputs": [
    {
     "name": "stdout",
     "output_type": "stream",
     "text": [
      "[Document(id='a1d37a75-bf53-431f-97a5-bbff9fa4747d', metadata={'creator': 'Microsoft® Word 2019', 'author': 'SIDDESH SAKHALKAR', 'moddate': '2024-08-09T14:46:50+05:30', 'total_pages': 9, 'page': 8, 'page_label': '9', 'producer': 'Microsoft® Word 2019', 'source': 'Bezos.pdf', 'creationdate': '2024-08-09T14:46:50+05:30'}, page_content='Leadership style \\n\"Day 1\" Management Philosophy \\nDay 1: start up \\nDay 2: stasis \\nDay 3: irrelevance \\nDay 4: \"excruciating, painful decline\" \\nDay 5: death  \\nBezos has stated \"it is always Day 1\" to describe his growth mindset.[164][165] \\nBezos used what he called a \"regret-minimization framework\" while he worked at D. E. Shaw and \\nagain during the early years of Amazon. He described this life philosophy by stating: \"When I\\'m 80, \\nam I going to regret leaving Wall Street? No. Will I regret missing the beginning of the Internet? \\nYes.\"[166] During the 1990s and early 2000s at Amazon, he was characterized as trying to quantify all \\naspects of running the company, often listing employees on spreadsheets and basing executive \\ndecisions on data.[34] To push Amazon forward, Bezos developed the mantra \"Get Big Fast\", \\nestablishing the company\\'s need to scale its operations to produce market dominance.[52] He favored \\ndiverting Amazon profits back into the company in lieu of allocating it amongst shareholders in the \\nform of dividends.[144]  \\nBezos uses the term \"work–life harmony\" instead of the more standard \"work–life balance\" because \\nhe believes that balance implies that you can only have one and not the other. He believes that work \\nand home life are interconnected, informing and calibrating each other.[167] Journalist Walt Mossberg \\ndubbed the idea that someone who cannot tolerate criticism or critique should not do anything new \\nor interesting \"The Bezos Principle\".[168] Bezos does not schedule early morning meetings and \\nenforces a two-pizza rule—a preference that meetings are small enough for two pizzas to feed \\neveryone in the boardroom.[169] When interviewing candidates for jobs at Amazon, he has stated he \\nconsiders three inquiries: can he admire the person, can the person raise the common standard, and \\nunder what circumstances could the person become exemplary.[170]  \\nIn 2018, it was reported that he met with Amazon investors for just six hours a year.[169] Instead of \\nusing presentation slides, Bezos requires high-level employees to present information with six-page \\nnarratives.[171] Since 1998, Bezos has published an annual letter for Amazon shareholders wherein he \\nfrequently refers to five principles: focus on customers, not competitors; take risks for market \\nleadership; facilitate staff morale; build a company culture; and empower people.[172][173] Bezos \\nmaintains the email address jeff@amazon.com[174] as an outlet for customers to reach out to him and \\nthe company. Although he does not respond to the emails, he forwards some of them with a \\nquestion mark in the subject line to executives, who then attempt to address the issues.[175] Bezos \\nhas cited Jeff Immelt of New Enterprise Associates,[176] Warren Buffett of Berkshire Hathaway, Jamie \\nDimon of JPMorgan Chase, and Bob Iger of The Walt Disney Company as major influences on his \\nleadership style.[176][177]'), Document(id='a44efeae-c726-4876-84f8-257c37d5e5b5', metadata={'source': 'Bezos.pdf', 'author': 'SIDDESH SAKHALKAR', 'producer': 'Microsoft® Word 2019', 'moddate': '2024-08-09T14:46:50+05:30', 'creationdate': '2024-08-09T14:46:50+05:30', 'creator': 'Microsoft® Word 2019', 'total_pages': 9, 'page_label': '2', 'page': 1}, page_content='Lawrence retired early to his family\\'s ranch near Cotulla, Texas, where his grandson would spend \\nmany summers in his youth [23] and which he would later purchase and expand from 25,000 acres \\n(10,117 ha) to 300,000 acres (121,406 ha).[24][25] Jeff displayed scientific interests and technological \\nproficiency and once rigged an electric alarm to keep his younger half-siblings out of his room.[26][27] \\nThe family moved to Miami, Florida, where Jeff attended Miami Palmetto High School.[28][29] In high \\nschool, he worked at McDonald\\'s as a short-order line cook during the breakfast shift.[30]  \\nBezos attended the Student Science Training Program at the University of Florida. He was high school \\nvaledictorian, a National Merit Scholar,[31][32] and a Silver Knight Award winner in 1982.[31] In his \\ngraduation speech, Bezos told the audience he dreamed of the day when mankind would colonize \\nspace. A local newspaper quoted his intention \"to get all people off the earth and see it turned into a \\nhuge national park\".[33]  \\nAfter graduating from high school in 1982, Bezos attended Princeton University. He initially majored \\nin physics but later switched to electrical engineering and computer science.[34] On 13 September \\n2018, during a talk at The Economic Club of Washington, D.C., Bezos revealed that his classmate at \\nPrinceton Yasantha Rajakarunanayake who was of Sri Lankan origin, some 30 years ago had defeated \\nhim to solve a mathematical problem and as a result, Bezos himself admitted that he gave up his \\ndreams of becoming a theoretical physicist.[35][36][37][38][39]  \\nBezos was a member of the Quadrangle Club, one of Princeton\\'s 11 eating clubs.[40] In addition, he \\nwas the president of the Princeton chapter of the Students for the Exploration and Development of \\nSpace (SEDS).[41][42] He had a 4.2 GPA and was elected to Phi Beta Kappa and Tau Beta Pi. Bezos \\ngraduated from Princeton in 1986 with a Bachelor of Science in Engineering (BSE), summa cum \\nlaude.[43]  \\nBusiness career \\nEarly career \\nAfter Bezos graduated from college in 1986, he was offered jobs at Intel, Bell Labs, and Andersen \\nConsulting, among others.[44] He first worked at Fitel, a fintech telecommunications start-up, where \\nhe was tasked with building a network for international trade.[45] Bezos was promoted to head of \\ndevelopment and director of customer service thereafter. He transitioned into the banking industry \\nwhen he became a product manager at Bankers Trust from 1988 to 1990. He then joined D. E. Shaw \\n& Co, a newly created hedge fund with a strong emphasis on mathematical modelling from 1990 \\nuntil 1994. Bezos became D. E. Shaw\\'s fourth senior vice-president by age 30.[46][44]  \\nAmazon \\nMain article: Amazon \\nBezos (front row, center) at the Robot Co-op in 2005'), Document(id='f9896d98-0e3d-41a2-b94d-3afce1fe19c4', metadata={'source': 'Bezos.pdf', 'total_pages': 9, 'page': 6, 'creator': 'Microsoft® Word 2019', 'page_label': '7', 'author': 'SIDDESH SAKHALKAR', 'producer': 'Microsoft® Word 2019', 'creationdate': '2024-08-09T14:46:50+05:30', 'moddate': '2024-08-09T14:46:50+05:30'}, page_content=\"On July 20, 2021, he launched on the NS-16 mission with his half-brother Mark Bezos, Wally Funk, \\nand Oliver Daemen.[114] He launched nine days after Richard Branson launched on board the Virgin \\nGalactic Unity 22 mission. Bezos's suborbital flight lasted over 10 minutes, reaching a peak altitude of \\n66.5 miles (107.0 km).[115]  \\nThe Washington Post \\nSee also: The Washington Post \\nOn August 5, 2013, Bezos announced his purchase of The Washington Post for $250 million in \\ncash,[116] at the suggestion of his friend, Don Graham.[117] To execute the sale, he established limited \\nliability company Nash Holdings to serve as a holding company through which he would own the \\nnewspaper.[118] The sale closed on October 1, 2013, and Nash Holdings took control.[119] In March \\n2014, Bezos made his first significant change at The Washington Post and lifted the online paywall for \\nsubscribers of a number of U.S. local newspapers in Texas, Hawaii, and Minnesota.[120] In January \\n2016, Bezos set out to reinvent the newspaper as a media and technology company by \\nreconstructing its digital media, mobile platforms, and analytics software.[121] After a surge in online \\nreadership in 2016, the paper was profitable for the first time since Bezos made the purchase in \\n2013.[122]  \\nBezos Expeditions \\nMain article: Bezos Expeditions \\nBezos makes personal investments through his venture capital vehicle, Bezos Expeditions.[123] He was \\none of the first shareholders in Google, when he invested $250,000 in 1998. That $250,000 \\ninvestment resulted in 3.3 million shares of Google stock, worth about $3.1 billion in 2017.[124][125] He \\nalso invested in Unity Biotechnology, a life-extension research firm hoping to slow or stop the \\nprocess of aging.[126] Bezos is involved in the healthcare sector, which includes investments in Unity \\nBiotechnology, GRAIL, Juno Therapeutics, and Zocdoc.[127] In January 2018, an announcement was \\nmade concerning Bezos's role within a new, unnamed healthcare company. This venture, later named \\nHaven, is expected to be a partnership between Amazon, JPMorgan, and Berkshire Hathaway.[128][129]  \\nBezos also supports philanthropic efforts through direct donations and non-profit projects funded by \\nBezos Expeditions.[130] Bezos used Bezos Expeditions to fund several philanthropic projects, including \\nan Innovation center at the Seattle Museum of History and Industry and the Bezos Center for Neural \\nCircuit Dynamics at Princeton Neuroscience Institute.[131][132] In 2013, Bezos Expeditions funded the \\nrecovery of two Saturn V first-stage Rocketdyne F-1 engines from the floor of the Atlantic Ocean.[133] \\nThey were positively identified as belonging to the Apollo 11 mission's S-1C stage from July \\n1969.[134][135] The engines are currently on display at the Seattle Museum of Flight.[136][137]  \\nAltos Labs \\nMain article: Altos Labs \\nIn September 2021, Bezos co-founded Altos Labs with Mail.ru founder Yuri Milner. Altos Labs is a \\nwell-funded biotechnology company dedicated to harnessing cellular reprogramming to develop \\nlongevity therapeutics.[6] The company has recruited prominent scientists such as Juan Carlos Izpisúa \\nBelmonte (known for work on rejuvenation through reprogramming), Steve Horvath (known for work \\nin epigenetic aging clocks), and Shinya Yamanaka (the Nobel Prize-winning inventor of cellular \\nreprogramming in mammalian cells).[6] The company left stealth mode and launched on January 19, \\n2022, with a start capital of $3 billion and an executive team led by Hal Barron.[138]\"), Document(id='1d0f1b2e-9e7d-4764-b78c-b651846354bd', metadata={'author': 'SIDDESH SAKHALKAR', 'producer': 'Microsoft® Word 2019', 'page_label': '6', 'creator': 'Microsoft® Word 2019', 'total_pages': 9, 'source': 'Bezos.pdf', 'creationdate': '2024-08-09T14:46:50+05:30', 'moddate': '2024-08-09T14:46:50+05:30', 'page': 5}, page_content='preserve Earth from overuse through resource depletion.[97] Rob Meyerson led Blue Origin from 2003 \\nto 2017 and served as its first president.[98]  \\nAfter its founding, Blue Origin maintained a low profile until 2006 when it purchased a large tract of \\nland in West Texas for a launch and test facility.[99] After the company gained the public\\'s attention \\nduring the late 2000s, Bezos additionally indicated his interest in reducing the cost of space travel for \\nhumans while also increasing the safety of extraterrestrial travel.[100] In September 2011, one of the \\ncompany\\'s uncrewed prototype vehicles crashed during a short-hop test flight. Although the crash \\nwas viewed as a setback, news outlets noted how far the company went from its founding-to-date in \\nadvancing spaceflight.[101] After the crash, Bezos has been superstitiously wearing his \"lucky\" Texas \\nCowboy boots to all rocket launches.[102] In May 2013, Bezos met with Richard Branson, chairman of \\nVirgin Galactic, to discuss commercial spaceflight opportunities and strategies.[103] He has been \\ncompared to Branson and Elon Musk as all three are billionaires who prioritize spaceflight among \\ntheir business interests.[104]  \\nIn 2015, Bezos announced that a new orbital launch vehicle was under development and would \\nmake its first flight in the late-2010s.[105] Later in November, Blue Origin\\'s New Shepard space vehicle \\nsuccessfully rocketed into space and reached its planned test altitude of 329,839 feet (100.5 \\nkilometers) before executing a vertical landing back at the launch site in West Texas. In 2016, Bezos \\nallowed select journalists to visit, tour, and photograph his facility.[106] He has repeatedly called for \\nincreased inter-space energy and industrial manufacturing to decrease the negative costs associated \\nwith business-related pollution.[107]  \\nIn December 2017, New Shepard successfully flew and landed dummy passengers, amending and \\npushing its human space travel start date into late 2018.[108] To execute this program, Blue Origin \\nbuilt six of the vehicles to support all phases of testing and operations: no-passenger test flights, \\nflights with test passengers, and commercial-passenger weekly operations.[109] Since 2016, Bezos has \\nspoken more freely about his hopes to colonize the solar system, and has been selling US$1 billion in \\nAmazon stock each year to capitalize Blue Origin in an effort to support this endeavor.[110][111] In May \\n2018, Bezos maintained that the primary goal of Blue Origin is to preserve the natural resources of \\nEarth by making the human species multi-planetary.[112] He announced that New Shepard would \\nbegin transporting humans into sub-orbital space by November 2018.[112] In July 2018, it was \\nannounced that Bezos had priced commercial spaceflight tickets from $200,000 to $300,000 per \\nperson.[113]  \\nSpaceflight \\nJeff Bezos \\nSpace career \\nCommercial Astronaut \\n \\nFlight time 10m 18s \\nSelection Blue Origin \\nMissions NS-16')]\n"
     ]
    }
   ],
   "source": [
    "prompt = \"\"\"\n",
    "\n",
    "    Answer the user query based on the context and analyzie the chat history when required.\n",
    "    if the answer dosent exist in the context and chat history then say i dont know\n",
    "    if the answer is related to chat history then give an appropriate answer.\n",
    "\n",
    "    context:{context}\n",
    "\n",
    "    \"\"\"\n",
    "\n",
    "source_docs = chroma_db.similarity_search(query=query)\n",
    "\n",
    "print(source_docs)"
   ]
  },
  {
   "cell_type": "code",
   "execution_count": 19,
   "id": "62baf5f8",
   "metadata": {},
   "outputs": [],
   "source": [
    "from langchain_core.messages import AIMessage, HumanMessage\n",
    "from langchain.prompts import ChatPromptTemplate, MessagesPlaceholder\n",
    "\n",
    "template = ChatPromptTemplate.from_messages([\n",
    "        (\"system\", prompt),\n",
    "        MessagesPlaceholder(\"history\"),\n",
    "        (\"human\", \"{question}\")\n",
    "    ])\n",
    "\n",
    "chat_history = []\n"
   ]
  },
  {
   "cell_type": "code",
   "execution_count": 22,
   "id": "ab7fc477",
   "metadata": {},
   "outputs": [
    {
     "name": "stdout",
     "output_type": "stream",
     "text": [
      "This document provides information about Jeff Bezos, specifically focusing on his leadership style, early life, education, business career, investments, and space exploration endeavors. It also covers his philosophy, work-life harmony, and interactions with Amazon shareholders and customers.\n"
     ]
    }
   ],
   "source": [
    "res = llm.invoke(template.format(question=query, history=chat_history, context=source_docs))\n",
    "print(res.content)"
   ]
  },
  {
   "cell_type": "code",
   "execution_count": 23,
   "id": "39c95d45",
   "metadata": {},
   "outputs": [],
   "source": [
    "chat_history.append(HumanMessage(content=query))\n",
    "chat_history.append(AIMessage(content=res.content))"
   ]
  },
  {
   "cell_type": "code",
   "execution_count": 24,
   "id": "28f02829",
   "metadata": {},
   "outputs": [],
   "source": [
    "query=\"What was my 1st question ?\"\n",
    "\n",
    "source_docs = chroma_db.similarity_search(query=query)\n"
   ]
  },
  {
   "cell_type": "code",
   "execution_count": 25,
   "id": "58fc61c4",
   "metadata": {},
   "outputs": [
    {
     "name": "stdout",
     "output_type": "stream",
     "text": [
      "AI: Your first question was \"What is this document about?\"\n"
     ]
    }
   ],
   "source": [
    "res = llm.invoke(template.format(question=query, history=chat_history, context=source_docs))\n",
    "print(res.content)"
   ]
  },
  {
   "cell_type": "code",
   "execution_count": 15,
   "id": "084f7c4e",
   "metadata": {},
   "outputs": [
    {
     "name": "stdout",
     "output_type": "stream",
     "text": [
      "{'query': 'What is this document about?', 'result': 'This document provides information about Jeff Bezos, the founder of Amazon, his business ventures, leadership style, early life, education, and involvement in space exploration through Blue Origin. It covers various aspects of his personal and professional life, including his management philosophies, investments, and contributions to different industries such as media, technology, and space travel.'}\n"
     ]
    }
   ],
   "source": [
    "from langchain.chains import RetrievalQA\n",
    "\n",
    "chain = RetrievalQA.from_chain_type(llm=llm,\n",
    "                                    chain_type=\"stuff\",\n",
    "                                    retriever=chroma_db.as_retriever())\n",
    "\n",
    "response = chain(query)\n",
    "\n",
    "print(response)\n"
   ]
  },
  {
   "cell_type": "code",
   "execution_count": null,
   "id": "5e712d69",
   "metadata": {},
   "outputs": [],
   "source": []
  }
 ],
 "metadata": {
  "kernelspec": {
   "display_name": "venv",
   "language": "python",
   "name": "python3"
  },
  "language_info": {
   "codemirror_mode": {
    "name": "ipython",
    "version": 3
   },
   "file_extension": ".py",
   "mimetype": "text/x-python",
   "name": "python",
   "nbconvert_exporter": "python",
   "pygments_lexer": "ipython3",
   "version": "3.12.7"
  }
 },
 "nbformat": 4,
 "nbformat_minor": 5
}
